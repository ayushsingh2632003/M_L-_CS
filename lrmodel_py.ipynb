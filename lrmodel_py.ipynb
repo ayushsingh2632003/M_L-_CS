{
  "nbformat": 4,
  "nbformat_minor": 0,
  "metadata": {
    "colab": {
      "provenance": [],
      "mount_file_id": "1l2JCWcwDUZmWFnrbjIb_3DOT6Nhip_qG",
      "authorship_tag": "ABX9TyPidgUTulf6u4JjezTce/Zt",
      "include_colab_link": true
    },
    "kernelspec": {
      "name": "python3",
      "display_name": "Python 3"
    },
    "language_info": {
      "name": "python"
    }
  },
  "cells": [
    {
      "cell_type": "markdown",
      "metadata": {
        "id": "view-in-github",
        "colab_type": "text"
      },
      "source": [
        "<a href=\"https://colab.research.google.com/github/ayushsingh2632003/M_L-_CS/blob/main/lrmodel_py.ipynb\" target=\"_parent\"><img src=\"https://colab.research.google.com/assets/colab-badge.svg\" alt=\"Open In Colab\"/></a>"
      ]
    },
    {
      "cell_type": "code",
      "execution_count": 2,
      "metadata": {
        "id": "rC2LXaxXeLuA"
      },
      "outputs": [],
      "source": [
        "import numpy as np\n",
        "import matplotlib.pyplot as plt\n",
        "plt.style.use('/content/drive/MyDrive/Colab Notebooks/M_L/deeplearning.mplstyle')"
      ]
    },
    {
      "cell_type": "code",
      "source": [
        "x_train = np.array([1.0,2.0])\n",
        "y_train = np.array([300.0,500.0])\n",
        "\n",
        "print(f\"x_train= {x_train}\")"
      ],
      "metadata": {
        "colab": {
          "base_uri": "https://localhost:8080/"
        },
        "id": "2htZ2ZiOe-je",
        "outputId": "cff98d30-7923-4499-a4c8-1ba1f83af10a"
      },
      "execution_count": 3,
      "outputs": [
        {
          "output_type": "stream",
          "name": "stdout",
          "text": [
            "x_train= [1. 2.]\n"
          ]
        }
      ]
    },
    {
      "cell_type": "code",
      "source": [
        "print(f\"y_train= {y_train}\")"
      ],
      "metadata": {
        "colab": {
          "base_uri": "https://localhost:8080/"
        },
        "id": "jnnVfT6TfmRI",
        "outputId": "d2dc31ec-fde1-4010-97e7-cc755dd05311"
      },
      "execution_count": 4,
      "outputs": [
        {
          "output_type": "stream",
          "name": "stdout",
          "text": [
            "y_train= [300. 500.]\n"
          ]
        }
      ]
    },
    {
      "cell_type": "code",
      "source": [
        "print(f\"x_train.shape:{x_train.shape}\")\n",
        "m = x_train.shape[0]\n",
        "print(f\"Number of training examples is : {m}\")"
      ],
      "metadata": {
        "colab": {
          "base_uri": "https://localhost:8080/"
        },
        "id": "Ja9bOq44f1AE",
        "outputId": "17f5c844-a371-4e9a-98a7-615602749885"
      },
      "execution_count": 5,
      "outputs": [
        {
          "output_type": "stream",
          "name": "stdout",
          "text": [
            "x_train.shape:(2,)\n",
            "Number of training examples is : 2\n"
          ]
        }
      ]
    },
    {
      "cell_type": "code",
      "source": [
        "# m is the number of training examples\n",
        "m = len(x_train)\n",
        "print(f\"Number of training examples is: {m}\")"
      ],
      "metadata": {
        "colab": {
          "base_uri": "https://localhost:8080/"
        },
        "id": "5rAjnqysgrCh",
        "outputId": "8cb24eda-9408-4236-83a3-649eec54bb20"
      },
      "execution_count": 6,
      "outputs": [
        {
          "output_type": "stream",
          "name": "stdout",
          "text": [
            "Number of training examples is: 2\n"
          ]
        }
      ]
    },
    {
      "cell_type": "code",
      "source": [
        "i=0\n",
        "x_i = x_train[i]\n",
        "y_i = y_train[i]\n",
        "\n",
        "print(f\"x^({i}),y^({i}))= ({x_i},{y_i})\")\n"
      ],
      "metadata": {
        "colab": {
          "base_uri": "https://localhost:8080/"
        },
        "id": "jWv7SC-ug46a",
        "outputId": "f8157811-1924-4a33-b0f8-84054291fbd9"
      },
      "execution_count": 8,
      "outputs": [
        {
          "output_type": "stream",
          "name": "stdout",
          "text": [
            "x^(0),y^(0))= (1.0,300.0)\n"
          ]
        }
      ]
    },
    {
      "cell_type": "code",
      "source": [
        "plt.scatter(x_train , y_train , marker ='x' , c='r')\n",
        "plt.title(\"housing prices\")\n",
        "plt.ylabel('price (in 1000s of dollar )')\n",
        "plt.xlabel('size (1000 sqft)')\n",
        "plt.show()"
      ],
      "metadata": {
        "colab": {
          "base_uri": "https://localhost:8080/",
          "height": 460
        },
        "id": "WlPq42MhiHP3",
        "outputId": "c9cafeef-d245-4947-b537-37ca55a41370"
      },
      "execution_count": 9,
      "outputs": [
        {
          "output_type": "display_data",
          "data": {
            "text/plain": [
              "<Figure size 640x480 with 1 Axes>"
            ],
            "image/png": "[encoded data removed]"
          },
          "metadata": {}
        }
      ]
    },
    {
      "cell_type": "code",
      "source": [
        "w = 100\n",
        "b = 100\n",
        "print(f\"w: {w}\")\n",
        "print(f\"b: {b}\")"
      ],
      "metadata": {
        "colab": {
          "base_uri": "https://localhost:8080/"
        },
        "id": "lMekHpRfjd2Z",
        "outputId": "43d58a02-0ef3-4f88-ea1e-7e7827ea314e"
      },
      "execution_count": 10,
      "outputs": [
        {
          "output_type": "stream",
          "name": "stdout",
          "text": [
            "w: 100\n",
            "b: 100\n"
          ]
        }
      ]
    },
    {
      "cell_type": "code",
      "source": [
        "def compute_model_output(x, w, b):\n",
        "    \"\"\"\n",
        "    Computes the prediction of a linear model\n",
        "    Args:\n",
        "      x (ndarray (m,)): Data, m examples \n",
        "      w,b (scalar)    : model parameters  \n",
        "    Returns\n",
        "      y (ndarray (m,)): target values\n",
        "    \"\"\"\n",
        "    m = x.shape[0]\n",
        "    f_wb = np.zeros(m)\n",
        "    for i in range(m):\n",
        "        f_wb[i] = w * x[i] + b\n",
        "        \n",
        "    return f_wb"
      ],
      "metadata": {
        "id": "UGs2Y4ywje3G"
      },
      "execution_count": 15,
      "outputs": []
    },
    {
      "cell_type": "code",
      "source": [
        "tmp_f_wb = compute_model_output(x_train, w, b,)\n",
        "\n",
        "# Plot our model prediction\n",
        "plt.plot(x_train, tmp_f_wb, c='b',label='Our Prediction')\n",
        "\n",
        "# Plot the data points\n",
        "plt.scatter(x_train, y_train, marker='x', c='r',label='Actual Values')\n",
        "\n",
        "# Set the title\n",
        "plt.title(\"Housing Prices\")\n",
        "# Set the y-axis label\n",
        "plt.ylabel('Price (in 1000s of dollars)')\n",
        "# Set the x-axis label\n",
        "plt.xlabel('Size (1000 sqft)')\n",
        "plt.legend()\n",
        "plt.show()"
      ],
      "metadata": {
        "colab": {
          "base_uri": "https://localhost:8080/",
          "height": 460
        },
        "id": "jC6QEixBkOXK",
        "outputId": "8e581b96-5b54-4a5d-8718-503375c84ec6"
      },
      "execution_count": 16,
      "outputs": [
        {
          "output_type": "display_data",
          "data": {
            "text/plain": [
              "<Figure size 640x480 with 1 Axes>"
            ],
            "image/png": "[encoded data removed]"
          },
          "metadata": {}
        }
      ]
    }
  ]
}